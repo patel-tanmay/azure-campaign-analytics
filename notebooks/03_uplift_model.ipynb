{
 "cells": [
  {
   "cell_type": "markdown",
   "metadata": {
    "application/vnd.databricks.v1+cell": {
     "cellMetadata": {},
     "inputWidgets": {},
     "nuid": "8f8bd0c0-4213-4a42-b24f-89d9fb5449fe",
     "showTitle": false,
     "tableResultSettingsMap": {},
     "title": ""
    }
   },
   "source": [
    "🧠 What We’re Doing in This Notebook:\n",
    "\n",
    "Load the feature-engineered dataset from curated/criteo-1m-features\n",
    "\n",
    "Split into train/test using stratified sampling on treatment\n",
    "\n",
    "Train a LightGBM uplift model using CausalML or XGBoost (vanilla uplift workaround)\n",
    "\n",
    "Track everything via MLflow — metrics, parameters, model\n"
   ]
  },
  {
   "cell_type": "code",
   "execution_count": 0,
   "metadata": {
    "application/vnd.databricks.v1+cell": {
     "cellMetadata": {
      "byteLimit": 2048000,
      "rowLimit": 10000
     },
     "inputWidgets": {},
     "nuid": "77d52a24-7b41-429a-9983-36aac3e21f6f",
     "showTitle": false,
     "tableResultSettingsMap": {},
     "title": ""
    }
   },
   "outputs": [],
   "source": [
    "# Step 1: Set the storage account name\n",
    "storage_account = \"stcampaigntp\"  # update if your storage account is different\n",
    "\n",
    "# Step 2: Mount access using secret\n",
    "spark.conf.set(\n",
    "  f\"fs.azure.account.key.{storage_account}.dfs.core.windows.net\",\n",
    "  dbutils.secrets.get(scope=\"local-scope\", key=\"storage-account-key\")\n",
    ")\n",
    "\n",
    "# Step 3: Define your path prefix\n",
    "path_prefix = f\"abfss://curated@{storage_account}.dfs.core.windows.net/\"\n"
   ]
  },
  {
   "cell_type": "code",
   "execution_count": 0,
   "metadata": {
    "application/vnd.databricks.v1+cell": {
     "cellMetadata": {
      "byteLimit": 2048000,
      "rowLimit": 10000
     },
     "inputWidgets": {},
     "nuid": "88de5bf7-e18f-42d6-9cee-9cfbd515031b",
     "showTitle": false,
     "tableResultSettingsMap": {},
     "title": ""
    }
   },
   "outputs": [],
   "source": [
    "import mlflow\n",
    "import pandas as pd\n",
    "from pyspark.sql.functions import col\n",
    "from sklearn.model_selection import train_test_split\n",
    "\n",
    "# Load curated dataset\n",
    "df = spark.read.parquet(f\"abfss://curated@{storage_account}.dfs.core.windows.net/criteo-1m-features\")\n",
    "\n",
    "# Convert to pandas for causalml\n",
    "pdf = df.toPandas()\n",
    "\n",
    "# Features and labels\n",
    "features = [c for c in pdf.columns if c.startswith(\"f\")]\n",
    "X = pdf[features]\n",
    "treatment = pdf[\"treatment\"]\n",
    "y = pdf[\"conversion\"]\n",
    "\n",
    "# Train/test split\n",
    "X_train, X_test, y_train, y_test, t_train, t_test = train_test_split(\n",
    "    X, y, treatment, test_size=0.2, stratify=treatment, random_state=42\n",
    ")\n"
   ]
  },
  {
   "cell_type": "markdown",
   "metadata": {
    "application/vnd.databricks.v1+cell": {
     "cellMetadata": {},
     "inputWidgets": {},
     "nuid": "77a5000d-8c31-44a2-8045-c8b60203d1c7",
     "showTitle": false,
     "tableResultSettingsMap": {},
     "title": ""
    }
   },
   "source": [
    "🎯 NEXT STEP: Causal Uplift Modeling with causalml\n",
    "\n",
    "We’ll now train an uplift model to estimate the individual treatment effect (ITE):\n",
    "\n",
    "“How likely is this person to convert because they were treated?”"
   ]
  },
  {
   "cell_type": "code",
   "execution_count": 0,
   "metadata": {
    "application/vnd.databricks.v1+cell": {
     "cellMetadata": {
      "byteLimit": 2048000,
      "rowLimit": 10000
     },
     "inputWidgets": {},
     "nuid": "9cca819b-764c-4f3f-9663-78651ea6f552",
     "showTitle": false,
     "tableResultSettingsMap": {},
     "title": ""
    }
   },
   "outputs": [],
   "source": [
    "from sklift.models import SoloModel\n",
    "from lightgbm import LGBMClassifier\n",
    "from sklift.metrics import uplift_at_k\n",
    "\n",
    "# Define uplift model with supported method\n",
    "model = SoloModel(\n",
    "    estimator=LGBMClassifier(random_state=42),\n",
    "    method='treatment_interaction'  # ✅ supported method\n",
    ")\n",
    "\n",
    "# Fit model\n",
    "model.fit(X_train, y_train, treatment=t_train)\n",
    "\n",
    "# Predict uplift\n",
    "uplift_scores = model.predict(X_test)\n",
    "\n",
    "# Evaluate uplift\n",
    "score = uplift_at_k(y_test, uplift_scores, t_test, strategy='overall', k=0.3)\n",
    "print(f\"Uplift@30%: {score:.4f}\")\n"
   ]
  },
  {
   "cell_type": "code",
   "execution_count": 0,
   "metadata": {
    "application/vnd.databricks.v1+cell": {
     "cellMetadata": {
      "byteLimit": 2048000,
      "rowLimit": 10000
     },
     "inputWidgets": {},
     "nuid": "a8ffabd4-8ef3-4d96-8acd-132c52925d69",
     "showTitle": false,
     "tableResultSettingsMap": {},
     "title": ""
    }
   },
   "outputs": [],
   "source": [
    "from sklift.metrics import uplift_at_k\n",
    "\n",
    "# Evaluate uplift at top 30%\n",
    "score = uplift_at_k(y_test, uplift_scores, t_test, strategy='overall', k=0.3)\n",
    "print(f\"Uplift@30%: {score:.4f}\")\n"
   ]
  },
  {
   "cell_type": "code",
   "execution_count": 0,
   "metadata": {
    "application/vnd.databricks.v1+cell": {
     "cellMetadata": {
      "byteLimit": 2048000,
      "rowLimit": 10000
     },
     "inputWidgets": {},
     "nuid": "29e7163e-4738-467c-8a26-9aa38c31efca",
     "showTitle": false,
     "tableResultSettingsMap": {},
     "title": ""
    }
   },
   "outputs": [],
   "source": [
    "import pandas as pd\n",
    "\n",
    "# Create a DataFrame for scored data\n",
    "scored_df = pd.DataFrame({\n",
    "    \"uplift_score\": uplift_scores,\n",
    "    \"treatment\": t_test.values,\n",
    "    \"conversion\": y_test.values\n",
    "})\n",
    "\n",
    "# Convert to Spark DataFrame\n",
    "spark_df = spark.createDataFrame(scored_df)\n"
   ]
  },
  {
   "cell_type": "code",
   "execution_count": 0,
   "metadata": {
    "application/vnd.databricks.v1+cell": {
     "cellMetadata": {
      "byteLimit": 2048000,
      "rowLimit": 10000
     },
     "inputWidgets": {},
     "nuid": "a73b622e-3b2d-4ae2-9f05-70ff87cbecb4",
     "showTitle": false,
     "tableResultSettingsMap": {},
     "title": ""
    }
   },
   "outputs": [],
   "source": [
    "spark_df.write.mode(\"overwrite\").parquet(\n",
    "    f\"abfss://scored@{storage_account}.dfs.core.windows.net/criteo-1m-scored\"\n",
    ")\n"
   ]
  },
  {
   "cell_type": "code",
   "execution_count": 0,
   "metadata": {
    "application/vnd.databricks.v1+cell": {
     "cellMetadata": {
      "byteLimit": 2048000,
      "rowLimit": 10000
     },
     "inputWidgets": {},
     "nuid": "452b44f9-deac-4a12-8f86-1f91a2d756c8",
     "showTitle": false,
     "tableResultSettingsMap": {},
     "title": ""
    }
   },
   "outputs": [],
   "source": [
    "# reuse this model, log and register it in MLflow\n",
    "import mlflow\n",
    "\n",
    "with mlflow.start_run(run_name=\"uplift-xgboost\"):\n",
    "    mlflow.log_metric(\"uplift_at_30%\", score)\n",
    "    mlflow.set_tag(\"model_type\", \"XGBTRegressor\")\n",
    "    mlflow.set_tag(\"framework\", \"causalml\" if 'causalml' in model.__module__ else \"sklift\")\n",
    "    print(\"MLflow logging done.\")\n"
   ]
  },
  {
   "cell_type": "code",
   "execution_count": 0,
   "metadata": {
    "application/vnd.databricks.v1+cell": {
     "cellMetadata": {
      "byteLimit": 2048000,
      "rowLimit": 10000
     },
     "inputWidgets": {},
     "nuid": "0601dd64-be65-4a0a-9cb5-0e8715eefc9f",
     "showTitle": false,
     "tableResultSettingsMap": {},
     "title": ""
    }
   },
   "outputs": [],
   "source": [
    "top_100_df = scored_df.sort_values(by=\"uplift_score\", ascending=False).head(100)\n",
    "top_100_df.head()\n"
   ]
  },
  {
   "cell_type": "code",
   "execution_count": 0,
   "metadata": {
    "application/vnd.databricks.v1+cell": {
     "cellMetadata": {
      "byteLimit": 2048000,
      "rowLimit": 10000
     },
     "inputWidgets": {},
     "nuid": "71a0a7e6-db3f-49ac-ae01-2966ca243899",
     "showTitle": false,
     "tableResultSettingsMap": {},
     "title": ""
    }
   },
   "outputs": [],
   "source": [
    "top100_spark_df = spark.createDataFrame(top_100_df)\n",
    "top100_spark_df.write.mode(\"overwrite\").parquet(\n",
    "    f\"abfss://scored@{storage_account}.dfs.core.windows.net/criteo-1m-top100\"\n",
    ")\n"
   ]
  },
  {
   "cell_type": "markdown",
   "metadata": {
    "application/vnd.databricks.v1+cell": {
     "cellMetadata": {},
     "inputWidgets": {},
     "nuid": "a127d3f5-ee4b-4ab4-bb95-a3bce1747077",
     "showTitle": false,
     "tableResultSettingsMap": {},
     "title": ""
    }
   },
   "source": [
    "Step 7: Evaluate Uplift Results & Create Business-Friendly Outputs\n",
    "\n",
    "We now create interpretations and business outcomes, even if you skip plots."
   ]
  },
  {
   "cell_type": "code",
   "execution_count": 0,
   "metadata": {
    "application/vnd.databricks.v1+cell": {
     "cellMetadata": {
      "byteLimit": 2048000,
      "rowLimit": 10000
     },
     "inputWidgets": {},
     "nuid": "f2677082-eb46-4ad7-be11-cf66a07b85f8",
     "showTitle": false,
     "tableResultSettingsMap": {},
     "title": ""
    }
   },
   "outputs": [],
   "source": [
    "# Add uplift score to test set\n",
    "X_test_copy = X_test.copy()\n",
    "X_test_copy[\"uplift\"] = uplift_scores\n",
    "X_test_copy[\"treatment\"] = t_test.values\n",
    "X_test_copy[\"conversion\"] = y_test.values\n",
    "\n",
    "# Sort by uplift\n",
    "ranked = X_test_copy.sort_values(by=\"uplift\", ascending=False)\n",
    "\n",
    "# Top 1% target strategy\n",
    "top_1pct = int(0.01 * len(ranked))\n",
    "top_group = ranked.head(top_1pct)\n",
    "\n",
    "# Conversion rate in top group vs random\n",
    "conv_top = top_group[\"conversion\"].mean()\n",
    "conv_all = ranked[\"conversion\"].mean()\n",
    "\n",
    "print(f\"📈 Conversion Rate in Top 1%: {conv_top:.4f}\")\n",
    "print(f\"📉 Baseline Conversion Rate: {conv_all:.4f}\")\n",
    "print(f\"📊 Uplift in Top 1%: {conv_top - conv_all:.4f}\")\n"
   ]
  },
  {
   "cell_type": "code",
   "execution_count": 0,
   "metadata": {
    "application/vnd.databricks.v1+cell": {
     "cellMetadata": {
      "byteLimit": 2048000,
      "rowLimit": 10000
     },
     "inputWidgets": {},
     "nuid": "46adaecb-d14c-4d75-b5a3-462ab9f89354",
     "showTitle": false,
     "tableResultSettingsMap": {},
     "title": ""
    }
   },
   "outputs": [],
   "source": [
    "# saving output to curated container\n",
    "\n",
    "# Convert to Spark\n",
    "spark_df = spark.createDataFrame(ranked)\n",
    "\n",
    "# Save to curated container\n",
    "spark_df.write.mode(\"overwrite\").parquet(f\"abfss://curated@{storage_account}.dfs.core.windows.net/criteo-1m-uplift-scored\")\n"
   ]
  },
  {
   "cell_type": "code",
   "execution_count": 0,
   "metadata": {
    "application/vnd.databricks.v1+cell": {
     "cellMetadata": {
      "byteLimit": 2048000,
      "rowLimit": 10000
     },
     "inputWidgets": {},
     "nuid": "1fa71e6d-ea7c-4ad3-9239-0d98e4697959",
     "showTitle": false,
     "tableResultSettingsMap": {},
     "title": ""
    }
   },
   "outputs": [],
   "source": [
    "summary = {\n",
    "    \"Top 1% Conversion\": conv_top,\n",
    "    \"Overall Conversion\": conv_all,\n",
    "    \"Absolute Uplift\": conv_top - conv_all,\n",
    "    \"Relative Uplift (%)\": 100 * (conv_top - conv_all) / conv_all\n",
    "}\n",
    "pd.DataFrame([summary])\n"
   ]
  },
  {
   "cell_type": "code",
   "execution_count": 0,
   "metadata": {
    "application/vnd.databricks.v1+cell": {
     "cellMetadata": {
      "byteLimit": 2048000,
      "rowLimit": 10000
     },
     "inputWidgets": {},
     "nuid": "a2a26465-5055-48e3-9564-f61bd9112a9a",
     "showTitle": false,
     "tableResultSettingsMap": {},
     "title": ""
    }
   },
   "outputs": [],
   "source": [
    "import pandas as pd\n",
    "\n",
    "# Create final DataFrame to export\n",
    "uplift_df = pd.DataFrame({\n",
    "    \"uplift_score\": uplift_scores,\n",
    "    \"conversion\": y_test.values,\n",
    "    \"treatment\": t_test.values\n",
    "})\n",
    "\n",
    "# Save as Parquet to curated layer\n",
    "uplift_spark_df = spark.createDataFrame(uplift_df)\n",
    "uplift_spark_df.write.mode(\"overwrite\").parquet(f\"abfss://curated@{storage_account}.dfs.core.windows.net/uplift-output/\")\n"
   ]
  }
 ],
 "metadata": {
  "application/vnd.databricks.v1+notebook": {
   "computePreferences": null,
   "dashboards": [],
   "environmentMetadata": {
    "base_environment": "",
    "environment_version": "3"
   },
   "inputWidgetPreferences": null,
   "language": "python",
   "notebookMetadata": {
    "pythonIndentUnit": 4
   },
   "notebookName": "03_uplift_model",
   "widgets": {}
  },
  "language_info": {
   "name": "python"
  }
 },
 "nbformat": 4,
 "nbformat_minor": 0
}
