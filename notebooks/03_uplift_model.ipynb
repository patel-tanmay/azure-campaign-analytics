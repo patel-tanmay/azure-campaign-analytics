{
 "cells": [
  {
   "cell_type": "markdown",
   "metadata": {
    "application/vnd.databricks.v1+cell": {
     "cellMetadata": {},
     "inputWidgets": {},
     "nuid": "8f8bd0c0-4213-4a42-b24f-89d9fb5449fe",
     "showTitle": false,
     "tableResultSettingsMap": {},
     "title": ""
    }
   },
   "source": [
    "🧠 What We’re Doing in This Notebook:\n",
    "\n",
    "Load the feature-engineered dataset from curated/criteo-1m-features\n",
    "\n",
    "Split into train/test using stratified sampling on treatment\n",
    "\n",
    "Train a LightGBM uplift model using CausalML or XGBoost (vanilla uplift workaround)\n",
    "\n",
    "Track everything via MLflow — metrics, parameters, model\n"
   ]
  },
  {
   "cell_type": "code",
   "execution_count": 0,
   "metadata": {
    "application/vnd.databricks.v1+cell": {
     "cellMetadata": {
      "byteLimit": 2048000,
      "rowLimit": 10000
     },
     "inputWidgets": {},
     "nuid": "77d52a24-7b41-429a-9983-36aac3e21f6f",
     "showTitle": false,
     "tableResultSettingsMap": {},
     "title": ""
    }
   },
   "outputs": [],
   "source": [
    "# Step 1: Set the storage account name\n",
    "storage_account = \"stcampaigntp\"  # update if your storage account is different\n",
    "\n",
    "# Step 2: Mount access using secret\n",
    "spark.conf.set(\n",
    "  f\"fs.azure.account.key.{storage_account}.dfs.core.windows.net\",\n",
    "  dbutils.secrets.get(scope=\"local-scope\", key=\"storage-account-key\")\n",
    ")\n",
    "\n",
    "# Step 3: Define your path prefix\n",
    "path_prefix = f\"abfss://curated@{storage_account}.dfs.core.windows.net/\"\n"
   ]
  },
  {
   "cell_type": "code",
   "execution_count": 0,
   "metadata": {
    "application/vnd.databricks.v1+cell": {
     "cellMetadata": {
      "byteLimit": 2048000,
      "rowLimit": 10000
     },
     "inputWidgets": {},
     "nuid": "88de5bf7-e18f-42d6-9cee-9cfbd515031b",
     "showTitle": false,
     "tableResultSettingsMap": {},
     "title": ""
    }
   },
   "outputs": [],
   "source": [
    "import mlflow\n",
    "import pandas as pd\n",
    "from pyspark.sql.functions import col\n",
    "from sklearn.model_selection import train_test_split\n",
    "\n",
    "# Load curated dataset\n",
    "df = spark.read.parquet(f\"abfss://curated@{storage_account}.dfs.core.windows.net/criteo-1m-features\")\n",
    "\n",
    "# Convert to pandas for causalml\n",
    "pdf = df.toPandas()\n",
    "\n",
    "# Features and labels\n",
    "features = [c for c in pdf.columns if c.startswith(\"f\")]\n",
    "X = pdf[features]\n",
    "treatment = pdf[\"treatment\"]\n",
    "y = pdf[\"conversion\"]\n",
    "\n",
    "# Train/test split\n",
    "X_train, X_test, y_train, y_test, t_train, t_test = train_test_split(\n",
    "    X, y, treatment, test_size=0.2, stratify=treatment, random_state=42\n",
    ")\n"
   ]
  },
  {
   "cell_type": "markdown",
   "metadata": {
    "application/vnd.databricks.v1+cell": {
     "cellMetadata": {},
     "inputWidgets": {},
     "nuid": "77a5000d-8c31-44a2-8045-c8b60203d1c7",
     "showTitle": false,
     "tableResultSettingsMap": {},
     "title": ""
    }
   },
   "source": [
    "🎯 NEXT STEP: Causal Uplift Modeling with causalml\n",
    "\n",
    "We’ll now train an uplift model to estimate the individual treatment effect (ITE):\n",
    "\n",
    "“How likely is this person to convert because they were treated?”"
   ]
  },
  {
   "cell_type": "code",
   "execution_count": 0,
   "metadata": {
    "application/vnd.databricks.v1+cell": {
     "cellMetadata": {
      "byteLimit": 2048000,
      "rowLimit": 10000
     },
     "inputWidgets": {},
     "nuid": "9cca819b-764c-4f3f-9663-78651ea6f552",
     "showTitle": false,
     "tableResultSettingsMap": {},
     "title": ""
    }
   },
   "outputs": [],
   "source": [
    "from sklift.models import SoloModel\n",
    "from lightgbm import LGBMClassifier\n",
    "from sklift.metrics import uplift_at_k\n",
    "\n",
    "# Define uplift model with supported method\n",
    "model = SoloModel(\n",
    "    estimator=LGBMClassifier(random_state=42),\n",
    "    method='treatment_interaction'  # ✅ supported method\n",
    ")\n",
    "\n",
    "# Fit model\n",
    "model.fit(X_train, y_train, treatment=t_train)\n",
    "\n",
    "# Predict uplift\n",
    "uplift_scores = model.predict(X_test)\n",
    "\n",
    "# Evaluate uplift\n",
    "score = uplift_at_k(y_test, uplift_scores, t_test, strategy='overall', k=0.3)\n",
    "print(f\"Uplift@30%: {score:.4f}\")\n"
   ]
  },
  {
   "cell_type": "code",
   "execution_count": 0,
   "metadata": {
    "application/vnd.databricks.v1+cell": {
     "cellMetadata": {
      "byteLimit": 2048000,
      "rowLimit": 10000
     },
     "inputWidgets": {},
     "nuid": "a8ffabd4-8ef3-4d96-8acd-132c52925d69",
     "showTitle": false,
     "tableResultSettingsMap": {},
     "title": ""
    }
   },
   "outputs": [],
   "source": [
    "from sklift.metrics import uplift_at_k\n",
    "\n",
    "# Evaluate uplift at top 30%\n",
    "score = uplift_at_k(y_test, uplift_scores, t_test, strategy='overall', k=0.3)\n",
    "print(f\"Uplift@30%: {score:.4f}\")\n"
   ]
  },
  {
   "cell_type": "code",
   "execution_count": 0,
   "metadata": {
    "application/vnd.databricks.v1+cell": {
     "cellMetadata": {
      "byteLimit": 2048000,
      "rowLimit": 10000
     },
     "inputWidgets": {},
     "nuid": "29e7163e-4738-467c-8a26-9aa38c31efca",
     "showTitle": false,
     "tableResultSettingsMap": {},
     "title": ""
    }
   },
   "outputs": [],
   "source": [
    "import pandas as pd\n",
    "\n",
    "# Create a DataFrame for scored data\n",
    "scored_df = pd.DataFrame({\n",
    "    \"uplift_score\": uplift_scores,\n",
    "    \"treatment\": t_test.values,\n",
    "    \"conversion\": y_test.values\n",
    "})\n",
    "\n",
    "# Convert to Spark DataFrame\n",
    "spark_df = spark.createDataFrame(scored_df)\n"
   ]
  },
  {
   "cell_type": "code",
   "execution_count": 0,
   "metadata": {
    "application/vnd.databricks.v1+cell": {
     "cellMetadata": {
      "byteLimit": 2048000,
      "rowLimit": 10000
     },
     "inputWidgets": {},
     "nuid": "a73b622e-3b2d-4ae2-9f05-70ff87cbecb4",
     "showTitle": false,
     "tableResultSettingsMap": {},
     "title": ""
    }
   },
   "outputs": [],
   "source": [
    "spark_df.write.mode(\"overwrite\").parquet(\n",
    "    f\"abfss://scored@{storage_account}.dfs.core.windows.net/criteo-1m-scored\"\n",
    ")\n"
   ]
  },
  {
   "cell_type": "code",
   "execution_count": 0,
   "metadata": {
    "application/vnd.databricks.v1+cell": {
     "cellMetadata": {
      "byteLimit": 2048000,
      "rowLimit": 10000
     },
     "inputWidgets": {},
     "nuid": "452b44f9-deac-4a12-8f86-1f91a2d756c8",
     "showTitle": false,
     "tableResultSettingsMap": {},
     "title": ""
    }
   },
   "outputs": [],
   "source": [
    "import mlflow\n",
    "\n",
    "with mlflow.start_run(run_name=\"uplift-xgboost\"):\n",
    "    mlflow.log_metric(\"uplift_at_30%\", score)\n",
    "    mlflow.set_tag(\"model_type\", \"XGBTRegressor\")\n",
    "    mlflow.set_tag(\"framework\", \"causalml\" if 'causalml' in model.__module__ else \"sklift\")\n",
    "    print(\"MLflow logging done.\")\n"
   ]
  }
 ],
 "metadata": {
  "application/vnd.databricks.v1+notebook": {
   "computePreferences": null,
   "dashboards": [],
   "environmentMetadata": {
    "base_environment": "",
    "environment_version": "3"
   },
   "inputWidgetPreferences": null,
   "language": "python",
   "notebookMetadata": {
    "pythonIndentUnit": 4
   },
   "notebookName": "03_uplift_model",
   "widgets": {}
  },
  "language_info": {
   "name": "python"
  }
 },
 "nbformat": 4,
 "nbformat_minor": 0
}
