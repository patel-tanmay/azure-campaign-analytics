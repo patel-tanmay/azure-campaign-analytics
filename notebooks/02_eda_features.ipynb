{
 "cells": [
  {
   "cell_type": "code",
   "execution_count": 0,
   "metadata": {
    "application/vnd.databricks.v1+cell": {
     "cellMetadata": {
      "byteLimit": 2048000,
      "rowLimit": 10000
     },
     "inputWidgets": {},
     "nuid": "277ff537-9967-4438-9a77-dbc6d8ad1abf",
     "showTitle": false,
     "tableResultSettingsMap": {},
     "title": ""
    }
   },
   "outputs": [],
   "source": [
    "# 5A: Load sampled data\n",
    "df = spark.read.parquet(f\"abfss://curated@{storage_account}.dfs.core.windows.net/criteo_uplift_1m\")\n",
    "print(f\"✅ Loaded {df.count():,} rows\")\n",
    "\n",
    "# 5B: Feature engineering\n",
    "\n",
    "# Optional: Rename f0–f11 to meaningful names like I1–I12\n",
    "new_col_names = {\n",
    "    'f0': 'I1', 'f1': 'I2', 'f2': 'I3', 'f3': 'I4',\n",
    "    'f4': 'I5', 'f5': 'I6', 'f6': 'I7', 'f7': 'I8',\n",
    "    'f8': 'I9', 'f9': 'I10', 'f10': 'I11', 'f11': 'I12'\n",
    "}\n",
    "\n",
    "for old_name, new_name in new_col_names.items():\n",
    "    df = df.withColumnRenamed(old_name, new_name)\n",
    "\n",
    "# Drop any rows with missing values\n",
    "df = df.dropna()\n",
    "\n",
    "# Cast all I-columns and labels to IntegerType\n",
    "from pyspark.sql.types import IntegerType\n",
    "\n",
    "for col in df.columns:\n",
    "    df = df.withColumn(col, df[col].cast(IntegerType()))\n",
    "\n",
    "# Show schema to confirm\n",
    "df.printSchema()\n",
    "\n",
    "# Save processed features to 'curated' container\n",
    "df.write.mode(\"overwrite\").parquet(f\"abfss://curated@{storage_account}.dfs.core.windows.net/criteo-1m-features\")\n",
    "print(\"✅ Feature-engineered data written to curated/criteo-1m-features\")\n",
    "\n"
   ]
  }
 ],
 "metadata": {
  "application/vnd.databricks.v1+notebook": {
   "computePreferences": null,
   "dashboards": [],
   "environmentMetadata": {
    "base_environment": "",
    "environment_version": "3"
   },
   "inputWidgetPreferences": null,
   "language": "python",
   "notebookMetadata": {
    "pythonIndentUnit": 4
   },
   "notebookName": "02_eda_features",
   "widgets": {}
  },
  "language_info": {
   "name": "python"
  }
 },
 "nbformat": 4,
 "nbformat_minor": 0
}
